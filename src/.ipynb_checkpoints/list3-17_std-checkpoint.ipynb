{
 "cells": [
  {
   "cell_type": "code",
   "execution_count": 2,
   "metadata": {},
   "outputs": [
    {
     "name": "stderr",
     "output_type": "stream",
     "text": [
      "C:\\ProgramData\\Anaconda3\\lib\\site-packages\\h5py\\__init__.py:36: FutureWarning: Conversion of the second argument of issubdtype from `float` to `np.floating` is deprecated. In future, it will be treated as `np.float64 == np.dtype(float).type`.\n",
      "  from ._conv import register_converters as _register_converters\n",
      "Using TensorFlow backend.\n"
     ]
    },
    {
     "data": {
      "text/plain": [
       "Text(0,0.5,'住宅価格(標準化後)')"
      ]
     },
     "execution_count": 2,
     "metadata": {},
     "output_type": "execute_result"
    }
   ],
   "source": [
    "# リスト3.17 データの標準化\n",
    "\n",
    "# リスト3.17を実行のためBoston house-pricesの読み込みが必要\n",
    "import keras\n",
    "import matplotlib.pyplot as plt\n",
    "\n",
    "(x_train, y_train), (x_test, y_test) = keras.datasets.boston_housing.load_data()\n",
    "\n",
    "\n",
    "# matplotlibのグラフをインラインで表示する(ノート内でグラフを表示する)\n",
    "%matplotlib inline\n",
    "\n",
    "import matplotlib.pyplot as plt\n",
    "\n",
    "# 標準化：元データを平均0、標準偏差が1のものに変換する正規化法\n",
    "x_train_mean = x_train.mean(axis=0) # xの平均\n",
    "x_train_std = x_train.std(axis=0) # xの標準偏差\n",
    "y_train_mean = y_train.mean(axis=0) # yの平均\n",
    "y_train_std = y_train.std(axis=0) # yの標準偏差\n",
    "\n",
    "x_train = (x_train - x_train_mean)/x_train_std # xの標準化\n",
    "y_train = (y_train - y_train_mean)/y_train_std # yの標準化\n",
    "\n",
    "# x_testに対してもx_train_meanとx_train_stdを使う\n",
    "x_test = (x_test - x_train_mean)/x_train_std\n",
    "# y_testに対してもy_train_meanとy_train_stdを使う\n",
    "y_test = (y_test - y_train_mean)/y_train_std\n",
    "\n",
    "# x_train[:, 5]：506x13のデータの5列目 RM:部屋数\n",
    "# y_train：506x1のデータ PRICE:住宅価格\n",
    "plt.plot(x_train[:, 5], y_train, 'o')\n",
    "plt.xlabel('部屋数(標準化後)')\n",
    "plt.ylabel('住宅価格(標準化後)')\n"
   ]
  },
  {
   "cell_type": "code",
   "execution_count": null,
   "metadata": {},
   "outputs": [],
   "source": []
  }
 ],
 "metadata": {
  "kernelspec": {
   "display_name": "Python 3",
   "language": "python",
   "name": "python3"
  },
  "language_info": {
   "codemirror_mode": {
    "name": "ipython",
    "version": 3
   },
   "file_extension": ".py",
   "mimetype": "text/x-python",
   "name": "python",
   "nbconvert_exporter": "python",
   "pygments_lexer": "ipython3",
   "version": "3.6.5"
  }
 },
 "nbformat": 4,
 "nbformat_minor": 2
}
