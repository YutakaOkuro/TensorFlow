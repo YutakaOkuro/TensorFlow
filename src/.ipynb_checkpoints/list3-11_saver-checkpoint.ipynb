{
 "cells": [
  {
   "cell_type": "code",
   "execution_count": 3,
   "metadata": {},
   "outputs": [
    {
     "name": "stdout",
     "output_type": "stream",
     "text": [
      "一回目 b =  2\n",
      "二回目 b =  3\n",
      "新しいセッション\n",
      "INFO:tensorflow:Restoring parameters from model/model.ckpt\n",
      "一回目 b =  4\n",
      "二回目 b =  5\n"
     ]
    }
   ],
   "source": [
    "import tensorflow as tf\n",
    "\n",
    "# tf.Variable: 変数aを設定する\n",
    "a = tf.Variable(1, name='a')\n",
    "\n",
    "# tf.assign: 代入した結果を繰り返す処理を定義する\n",
    "b = tf.assign(a, a+1)\n",
    "\n",
    "# tf.train.Saver(): セッション間でパラメータを引き継ぐSaverを定義する\n",
    "saver = tf.train.Saver()\n",
    "\n",
    "# 1つ目のセッション\n",
    "with tf.Session() as sess:\n",
    "    # 変数の初期化を行う\n",
    "    sess.run(tf.global_variables_initializer())\n",
    "    \n",
    "    print('一回目 b = ', sess.run(b))\n",
    "    print('二回目 b = ', sess.run(b))\n",
    "    \n",
    "    # Saverでパラメータを保存する\n",
    "    saver.save(sess, 'model/model.ckpt')\n",
    "    \n",
    "# 2つ目のセッション\n",
    "with tf.Session() as sess:\n",
    "    print('新しいセッション')\n",
    "\n",
    "    # 変数の初期化を行う\n",
    "    sess.run(tf.global_variables_initializer())\n",
    "    \n",
    "    # Saverでパラメータを読み出す\n",
    "    saver.restore(sess, save_path='model/model.ckpt')\n",
    "    \n",
    "    print('一回目 b = ', sess.run(b))\n",
    "    print('二回目 b = ', sess.run(b))\n",
    "    "
   ]
  },
  {
   "cell_type": "code",
   "execution_count": null,
   "metadata": {},
   "outputs": [],
   "source": []
  },
  {
   "cell_type": "code",
   "execution_count": null,
   "metadata": {},
   "outputs": [],
   "source": []
  }
 ],
 "metadata": {
  "kernelspec": {
   "display_name": "Python 3",
   "language": "python",
   "name": "python3"
  },
  "language_info": {
   "codemirror_mode": {
    "name": "ipython",
    "version": 3
   },
   "file_extension": ".py",
   "mimetype": "text/x-python",
   "name": "python",
   "nbconvert_exporter": "python",
   "pygments_lexer": "ipython3",
   "version": "3.6.5"
  }
 },
 "nbformat": 4,
 "nbformat_minor": 2
}
